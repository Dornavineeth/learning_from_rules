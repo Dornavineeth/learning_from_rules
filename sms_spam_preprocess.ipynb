{
 "cells": [
  {
   "cell_type": "raw",
   "id": "b749387e-191d-4b31-83aa-6eca8e2eaeb4",
   "metadata": {},
   "source": [
    "PREPROCESS SMS DATASET"
   ]
  },
  {
   "cell_type": "code",
   "execution_count": 2,
   "id": "7aa5cccc-0c6d-4de3-9858-f2f122ffdb54",
   "metadata": {},
   "outputs": [],
   "source": [
    "import pandas as pd\n",
    "from sklearn.model_selection import train_test_split"
   ]
  },
  {
   "cell_type": "code",
   "execution_count": 3,
   "id": "8b3d0847-8668-45d3-ad9b-e4707f03d4c5",
   "metadata": {},
   "outputs": [],
   "source": [
    "DIR = 'data/smsspamcollection'"
   ]
  },
  {
   "cell_type": "code",
   "execution_count": 4,
   "id": "8596fca9-be2d-468e-b9fe-1111711cf8ad",
   "metadata": {},
   "outputs": [],
   "source": [
    "df = pd.read_csv(DIR+'/'+'SMSSpamCollection',delimiter='\\t',header=None)\n",
    "df = df.rename(columns={0: 'label', 1: 'text'})"
   ]
  },
  {
   "cell_type": "code",
   "execution_count": 5,
   "id": "c9f621f9-d0ec-452a-b83e-90faf5d8bddf",
   "metadata": {},
   "outputs": [],
   "source": [
    "df.loc[df['label']=='ham','label'] = 0\n",
    "df.loc[df['label']=='spam','label'] = 1"
   ]
  },
  {
   "cell_type": "code",
   "execution_count": 7,
   "id": "32f63c44-fb9f-4874-b1fb-034f796c0ac7",
   "metadata": {},
   "outputs": [],
   "source": [
    "df.to_csv(DIR+'/'+'spam.csv')"
   ]
  },
  {
   "cell_type": "code",
   "execution_count": null,
   "id": "e39e533a-8d06-4af0-80dc-df83c02980f5",
   "metadata": {},
   "outputs": [],
   "source": []
  }
 ],
 "metadata": {
  "kernelspec": {
   "display_name": "Python 3",
   "language": "python",
   "name": "python3"
  },
  "language_info": {
   "codemirror_mode": {
    "name": "ipython",
    "version": 3
   },
   "file_extension": ".py",
   "mimetype": "text/x-python",
   "name": "python",
   "nbconvert_exporter": "python",
   "pygments_lexer": "ipython3",
   "version": "3.6.9"
  }
 },
 "nbformat": 4,
 "nbformat_minor": 5
}
